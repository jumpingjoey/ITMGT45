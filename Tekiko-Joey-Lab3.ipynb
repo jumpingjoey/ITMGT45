{
 "cells": [
  {
   "cell_type": "code",
   "execution_count": 15,
   "metadata": {},
   "outputs": [],
   "source": [
    "social_graph = {\n",
    "    \"@bongolpoc\":{\"first_name\":\"Joselito\",\n",
    "                  \"last_name\":\"Olpoc\",\n",
    "                  \"following\":[\n",
    "                  ]\n",
    "    },\n",
    "    \"@joaquin\":  {\"first_name\":\"Joaquin\",\n",
    "                  \"last_name\":\"Gonzales\",\n",
    "                  \"following\":[\n",
    "                      \"@chums\",\"@jobenilagan\"\n",
    "                  ]\n",
    "    },\n",
    "    \"@chums\" : {\"first_name\":\"Matthew\",\n",
    "                \"last_name\":\"Uy\",\n",
    "                \"following\":[\n",
    "                    \"@bongolpoc\",\"@miketan\",\"@rudyang\",\"@joeilagan\"\n",
    "                ]\n",
    "    },\n",
    "    \"@jobenilagan\":{\"first_name\":\"Joben\",\n",
    "                   \"last_name\":\"Ilagan\",\n",
    "                   \"following\":[\n",
    "                    \"@eeebeee\",\"@joeilagan\",\"@chums\",\"@joaquin\"\n",
    "                   ]\n",
    "    },\n",
    "    \"@joeilagan\":{\"first_name\":\"Joe\",\n",
    "                  \"last_name\":\"Ilagan\",\n",
    "                  \"following\":[\n",
    "                    \"@eeebeee\",\"@jobenilagan\",\"@chums\"\n",
    "                  ]\n",
    "    },\n",
    "    \"@eeebeee\":  {\"first_name\":\"Elizabeth\",\n",
    "                  \"last_name\":\"Ilagan\",\n",
    "                  \"following\":[\n",
    "                    \"@jobenilagan\",\"@joeilagan\"\n",
    "                  ]\n",
    "    },\n",
    "}\n",
    "\n",
    "def relationship_status(x,y):\n",
    "    if y in social_graph[x]['following'] and x in social_graph[y]['following']:\n",
    "        return 'friends'\n",
    "    elif y in social_graph[x]['following']:\n",
    "        return 'following'\n",
    "    elif x in social_graph[y]['following']:\n",
    "        return 'followed by'\n",
    "    else:\n",
    "        return \"none\""
   ]
  },
  {
   "cell_type": "code",
   "execution_count": 16,
   "metadata": {},
   "outputs": [
    {
     "data": {
      "text/plain": [
       "'following'"
      ]
     },
     "execution_count": 16,
     "metadata": {},
     "output_type": "execute_result"
    }
   ],
   "source": [
    "relationship_status(\"@jobenilagan\",\"@chums\")"
   ]
  },
  {
   "cell_type": "code",
   "execution_count": 17,
   "metadata": {},
   "outputs": [
    {
     "data": {
      "text/plain": [
       "'none'"
      ]
     },
     "execution_count": 17,
     "metadata": {},
     "output_type": "execute_result"
    }
   ],
   "source": [
    "relationship_status(\"@eeebeee\",\"@chums\")"
   ]
  },
  {
   "cell_type": "code",
   "execution_count": 18,
   "metadata": {},
   "outputs": [
    {
     "data": {
      "text/plain": [
       "'friends'"
      ]
     },
     "execution_count": 18,
     "metadata": {},
     "output_type": "execute_result"
    }
   ],
   "source": [
    "relationship_status(\"@joeilagan\",\"@chums\")"
   ]
  },
  {
   "cell_type": "code",
   "execution_count": 20,
   "metadata": {},
   "outputs": [],
   "source": [
    "board1 = [\n",
    "['X','X','O'],\n",
    "['O','X','O'],\n",
    "['O','','X'],\n",
    "]\n",
    "\n",
    "board2 = [\n",
    "['X','X','O'],\n",
    "['O','X','O'],\n",
    "['','O','X'],\n",
    "]\n",
    "\n",
    "board3 = [\n",
    "['O','X','O'],\n",
    "['','O','X'],\n",
    "['X','X','O'],\n",
    "]\n",
    "\n",
    "board4 = [\n",
    "['X','X','X'],\n",
    "['O','X','O'],\n",
    "['O','','O'],\n",
    "]\n",
    "\n",
    "board5 = [\n",
    "['X','X','O'],\n",
    "['O','X','O'],\n",
    "['X','','O'],\n",
    "]\n",
    "\n",
    "board6 = [\n",
    "['X','X','O'],\n",
    "['O','X','O'],\n",
    "['X','',''],\n",
    "]\n",
    "\n",
    "#(i misunderstood the question and accidentally created a program which identifies which cell is empty. Included just to share lang haha)\n",
    "#def Seek_Empty(x): \n",
    " #   innercounter=0\n",
    "  #  intercounter=0\n",
    "  #  for items in x:\n",
    "  #          for items in x[innercounter]:\n",
    "  #              if x[innercounter][intercounter] == '':\n",
    "  #                  print('row' + str(innercounter+1))\n",
    "  #                  print('column'+ str(intercounter+1))\n",
    "  #                  print('Is Empty')\n",
    "  #              intercounter+=1\n",
    "  #          intercounter=0\n",
    "  #         innercounter+=1\n",
    "def get_winner(x):\n",
    "    if x[0][0]==x[0][1]==x[0][2]=='X':\n",
    "        print('X')\n",
    "    elif x[1][0]==x[1][1]==x[1][2]=='X':\n",
    "        print('X')\n",
    "    elif x[2][0]==x[2][1]==x[2][2]=='X':\n",
    "        print('X')\n",
    "    elif x[0][0]==x[1][0]==x[2][0]=='X':\n",
    "        print('X')\n",
    "    elif x[0][1]==x[1][1]==x[2][1]=='X':\n",
    "        print('X')\n",
    "    elif x[0][2]==x[1][2]==x[2][2]=='X':\n",
    "        print('X')\n",
    "    elif x[0][0]==x[1][1]==x[2][2]=='X':\n",
    "        print('X')\n",
    "    elif x[0][2]==x[1][1]==x[2][0]=='X':\n",
    "        print('X')\n",
    "    elif x[0][0]==x[0][1]==x[0][2]=='O':\n",
    "        print('O')\n",
    "    elif x[1][0]==x[1][1]==x[1][2]=='O':\n",
    "        print('O')\n",
    "    elif x[2][0]==x[2][1]==x[2][2]=='O':\n",
    "        print('O')\n",
    "    elif x[0][0]==x[1][0]==x[2][0]=='O':\n",
    "        print('O')\n",
    "    elif x[0][1]==x[1][1]==x[2][1]=='O':\n",
    "        print('O')\n",
    "    elif x[0][2]==x[1][2]==x[2][2]=='O':\n",
    "        print('O')\n",
    "    elif x[0][0]==x[1][1]==x[2][2]=='O':\n",
    "        print('O')\n",
    "    elif x[0][2]==x[1][1]==x[2][0]=='O':\n",
    "        print('O')\n",
    "    else:\n",
    "        print('')"
   ]
  },
  {
   "cell_type": "code",
   "execution_count": 21,
   "metadata": {},
   "outputs": [
    {
     "name": "stdout",
     "output_type": "stream",
     "text": [
      "X\n"
     ]
    }
   ],
   "source": [
    "get_winner(board1)"
   ]
  },
  {
   "cell_type": "code",
   "execution_count": 22,
   "metadata": {},
   "outputs": [
    {
     "name": "stdout",
     "output_type": "stream",
     "text": [
      "X\n"
     ]
    }
   ],
   "source": [
    "get_winner(board2)"
   ]
  },
  {
   "cell_type": "code",
   "execution_count": 23,
   "metadata": {},
   "outputs": [
    {
     "name": "stdout",
     "output_type": "stream",
     "text": [
      "O\n"
     ]
    }
   ],
   "source": [
    "get_winner(board3)"
   ]
  },
  {
   "cell_type": "code",
   "execution_count": 24,
   "metadata": {},
   "outputs": [
    {
     "name": "stdout",
     "output_type": "stream",
     "text": [
      "X\n"
     ]
    }
   ],
   "source": [
    "get_winner(board4)"
   ]
  },
  {
   "cell_type": "code",
   "execution_count": 25,
   "metadata": {},
   "outputs": [
    {
     "name": "stdout",
     "output_type": "stream",
     "text": [
      "O\n"
     ]
    }
   ],
   "source": [
    "get_winner(board5)"
   ]
  },
  {
   "cell_type": "code",
   "execution_count": 26,
   "metadata": {},
   "outputs": [
    {
     "name": "stdout",
     "output_type": "stream",
     "text": [
      "\n"
     ]
    }
   ],
   "source": [
    "get_winner(board6)"
   ]
  },
  {
   "cell_type": "code",
   "execution_count": 28,
   "metadata": {},
   "outputs": [
    {
     "name": "stdout",
     "output_type": "stream",
     "text": [
      "Source: admu\n",
      "Destination: upd\n",
      "ETA:90\n"
     ]
    }
   ],
   "source": [
    "locations = {\n",
    "    \"admu\":{\n",
    "        \"name\":\"Ateneo de Manila University\",\n",
    "        \"latitude\":14.6394557,\n",
    "        \"longitude\":121.0758975        \n",
    "    },\n",
    "    \"upd\":{\n",
    "        \"name\":\"University of the Philippines-Diliman Campus\",\n",
    "        \"latitude\":14.6538519,\n",
    "        \"longitude\":121.0663348\n",
    "    },\n",
    "    \"dlsu\":{\n",
    "        \"name\":\"De La Salle University-Taft\",\n",
    "        \"latitude\":14.5647346,\n",
    "        \"longitude\":120.9909876\n",
    "\n",
    "    }, # <-- Note that Python does not complain about this extra comma. This is perfectly okay.\n",
    "       #     The creators of Python saw that dictionaries tend to be changed a lot, so allowing this is a\n",
    "       #     convenience for developers who need to add elements when needed.\n",
    "}\n",
    "legs = {\n",
    "     (\"upd\",\"admu\"):{\n",
    "         \"travel_time_mins\":10\n",
    "     },\n",
    "     (\"admu\",\"dlsu\"):{\n",
    "         \"travel_time_mins\":35\n",
    "     },\n",
    "     (\"dlsu\",\"upd\"):{\n",
    "         \"travel_time_mins\":55\n",
    "     }\n",
    "}\n",
    "def eta (x,y):\n",
    "    a=0\n",
    "    if (x,y)==(\"upd\",\"admu\"):\n",
    "        return 'ETA:' '10'\n",
    "    elif (x,y)==(\"admu\",\"dlsu\"):\n",
    "        return 'ETA:' '35'\n",
    "    elif (x,y)==(\"dlsu\",\"upd\"):\n",
    "        return 'ETA:' '55'\n",
    "    elif (x,y)!=(\"dlsu\",\"upd\") or (x,y)!=(\"dlsu\",\"upd\") or (x,y)!=(\"upd\",\"admu\"):\n",
    "        if (x)==\"upd\":\n",
    "            a+=10\n",
    "        elif (x)==\"admu\":\n",
    "            a+=35\n",
    "        elif (x)==\"dlsu\":\n",
    "            a+=55\n",
    "        if (y)==\"admu\":\n",
    "            a+=10\n",
    "        elif (y)==\"dlsu\":\n",
    "            a+=35\n",
    "        elif (y)==\"upd\":\n",
    "            a+=55\n",
    "        return 'ETA:'+ str(a)\n",
    "\n",
    "\n",
    "x= input(\"Source: \")\n",
    "y=input(\"Destination: \")\n",
    "print(eta(x,y))  "
   ]
  },
  {
   "cell_type": "code",
   "execution_count": null,
   "metadata": {},
   "outputs": [],
   "source": []
  }
 ],
 "metadata": {
  "kernelspec": {
   "display_name": "Python 3",
   "language": "python",
   "name": "python3"
  },
  "language_info": {
   "codemirror_mode": {
    "name": "ipython",
    "version": 3
   },
   "file_extension": ".py",
   "mimetype": "text/x-python",
   "name": "python",
   "nbconvert_exporter": "python",
   "pygments_lexer": "ipython3",
   "version": "3.8.5"
  }
 },
 "nbformat": 4,
 "nbformat_minor": 4
}
